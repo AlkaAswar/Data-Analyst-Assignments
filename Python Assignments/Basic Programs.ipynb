{
 "cells": [
  {
   "cell_type": "markdown",
   "id": "0af01d72",
   "metadata": {},
   "source": [
    "### 1. Write Python Programs to use various operators in Python\n",
    "\n"
   ]
  },
  {
   "cell_type": "code",
   "execution_count": 16,
   "id": "be5d84de",
   "metadata": {},
   "outputs": [
    {
     "name": "stdout",
     "output_type": "stream",
     "text": [
      "13 7 30 1000 3.3333333333333335 3 1\n",
      "both are not equal\n",
      "this are the Operators\n"
     ]
    }
   ],
   "source": [
    "a  =  10\n",
    "b  =  3\n",
    "add=a+b\n",
    "sub=a-b\n",
    "mul=a*b\n",
    "power=a**b\n",
    "div=a/b\n",
    "div1=a//b\n",
    "mode=a%b\n",
    "print(add,sub,mul,power,div,div1,mode)\n",
    "if(a==b):\n",
    "    print(\"both are equal\")\n",
    "elif(a!=b):\n",
    "    print(\"both are not equal\")\n",
    "elif(a>b):\n",
    "    print(\"a is greater\")\n",
    "elif(a>=b):\n",
    "    print(\"a is greater or equal\")\n",
    "elif(a<=b):\n",
    "    print(\"less than or equal\")\n",
    "elif(a<b):\n",
    "    print(\"b is greater\")\n",
    "elif(a&b==0):\n",
    "    print(\"both are zero\")\n",
    "print(\"this are the Operators\")\n",
    "                            "
   ]
  },
  {
   "cell_type": "markdown",
   "id": "2a470afa",
   "metadata": {},
   "source": [
    "### 2. Create list of elements and slice and dice it\n",
    "\n"
   ]
  },
  {
   "cell_type": "code",
   "execution_count": null,
   "id": "b8d68e11",
   "metadata": {},
   "outputs": [],
   "source": [
    "### 2. Create list of elements and slice and dice it\n"
   ]
  },
  {
   "cell_type": "code",
   "execution_count": 18,
   "id": "07f1f1ad",
   "metadata": {},
   "outputs": [
    {
     "name": "stdout",
     "output_type": "stream",
     "text": [
      "['hallway', 11.25, 'kitchen', 18.0, 'living room', 20.0]\n",
      "['bedroom', 10.75, 'bathroom', 9.5]\n"
     ]
    },
    {
     "data": {
      "text/plain": [
       "[11.25, 'kitchen']"
      ]
     },
     "execution_count": 18,
     "metadata": {},
     "output_type": "execute_result"
    }
   ],
   "source": [
    "areas = [\"hallway\", 11.25, \"kitchen\", 18.0, \"living room\", 20.0, \"bedroom\", 10.75, \"bathroom\", 9.50]\n",
    "\n",
    "# Use slicing to create downstairs\n",
    "downstairs = areas[:6]\n",
    "\n",
    "# Use slicing to create upstairs\n",
    "upstairs = areas[6:]\n",
    "\n",
    "# Print out downstairs and upstairs\n",
    "print(downstairs)\n",
    "print(upstairs)\n",
    "areas[1:3]"
   ]
  },
  {
   "cell_type": "markdown",
   "id": "532bac66",
   "metadata": {},
   "source": [
    "### 3. Using while loop accept numbers until sum of numbers is less than 100\n",
    "\n"
   ]
  },
  {
   "cell_type": "code",
   "execution_count": 24,
   "id": "644095bb",
   "metadata": {},
   "outputs": [
    {
     "name": "stdout",
     "output_type": "stream",
     "text": [
      "0\n",
      "1\n",
      "3\n",
      "6\n",
      "10\n",
      "15\n",
      "21\n",
      "28\n",
      "36\n",
      "45\n",
      "55\n",
      "66\n",
      "78\n",
      "91\n"
     ]
    }
   ],
   "source": [
    "num=0\n",
    "sum=0\n",
    "while(num<100):\n",
    "    sum=sum+num\n",
    "    num=num+1\n",
    "    if(sum<=100):\n",
    "        print(sum)\n",
    "\n"
   ]
  },
  {
   "cell_type": "markdown",
   "id": "e50532f0",
   "metadata": {},
   "source": [
    "### 4. Write a python program Read & write Excel files \n",
    "\n"
   ]
  },
  {
   "cell_type": "code",
   "execution_count": null,
   "id": "b3636185",
   "metadata": {},
   "outputs": [],
   "source": [
    "import pandas as pd\n",
    "data=pd.read_excel(\"new_file.xlsx\",'r')\n",
    "data=pd.read_excel(\"new_file.xlsx\",'w')"
   ]
  },
  {
   "cell_type": "markdown",
   "id": "927c0b63",
   "metadata": {},
   "source": [
    "### 5. Write a python program to scrape reviews from a commercial web site\n",
    "\n"
   ]
  },
  {
   "cell_type": "code",
   "execution_count": null,
   "id": "e16b6255",
   "metadata": {},
   "outputs": [],
   "source": [
    "import requests\n",
    "print(requests.get('https://w3resource.com'))\n",
    "print(requests.get('https://wayback.com'))"
   ]
  },
  {
   "cell_type": "markdown",
   "id": "c5b27b22",
   "metadata": {},
   "source": [
    "### 6. Create a 3x3 matrix with values ranging from 2 to 10 using numpy\n",
    "\n"
   ]
  },
  {
   "cell_type": "code",
   "execution_count": 63,
   "id": "630fd43e",
   "metadata": {},
   "outputs": [
    {
     "name": "stdout",
     "output_type": "stream",
     "text": [
      "[[ 2  3  4]\n",
      " [ 5  6  7]\n",
      " [ 8  9 10]]\n"
     ]
    }
   ],
   "source": [
    "import numpy as np\n",
    "x =  np.arange(2, 11).reshape(3,3)\n",
    "print(x)"
   ]
  },
  {
   "cell_type": "markdown",
   "id": "a8bdf81f",
   "metadata": {},
   "source": [
    "### 7. Write a Python program to convert a list of numeric value into a one-dimensional NumPy array\n",
    "\n"
   ]
  },
  {
   "cell_type": "code",
   "execution_count": 68,
   "id": "cc4da726",
   "metadata": {},
   "outputs": [
    {
     "name": "stdout",
     "output_type": "stream",
     "text": [
      "Original List: [12.23, 13.32, 100, 36.32]\n",
      "One-dimensional NumPy array:  [ 12.23  13.32 100.    36.32]\n"
     ]
    }
   ],
   "source": [
    "import numpy as np\n",
    "l = [12.23, 13.32, 100, 36.32]\n",
    "print(\"Original List:\",l)\n",
    "a = np.array(l)\n",
    "print(\"One-dimensional NumPy array: \",a)"
   ]
  },
  {
   "cell_type": "markdown",
   "id": "0bdb08a5",
   "metadata": {},
   "source": [
    "### 8. \"Write a Python program to create a null vector of size 10 and update sixth value to 11.\n",
    "\n"
   ]
  },
  {
   "cell_type": "code",
   "execution_count": 69,
   "id": "c8cc1f91",
   "metadata": {},
   "outputs": [
    {
     "name": "stdout",
     "output_type": "stream",
     "text": [
      "[0. 0. 0. 0. 0. 0. 0. 0. 0. 0.]\n",
      "Update sixth value to 11\n",
      "[ 0.  0.  0.  0.  0.  0. 11.  0.  0.  0.]\n"
     ]
    }
   ],
   "source": [
    "import numpy as np\n",
    "x = np.zeros(10)\n",
    "print(x)\n",
    "print(\"Update sixth value to 11\")\n",
    "x[6] = 11\n",
    "print(x)"
   ]
  },
  {
   "cell_type": "code",
   "execution_count": null,
   "id": "d048f613",
   "metadata": {},
   "outputs": [],
   "source": []
  }
 ],
 "metadata": {
  "kernelspec": {
   "display_name": "Python 3 (ipykernel)",
   "language": "python",
   "name": "python3"
  },
  "language_info": {
   "codemirror_mode": {
    "name": "ipython",
    "version": 3
   },
   "file_extension": ".py",
   "mimetype": "text/x-python",
   "name": "python",
   "nbconvert_exporter": "python",
   "pygments_lexer": "ipython3",
   "version": "3.9.7"
  }
 },
 "nbformat": 4,
 "nbformat_minor": 5
}
